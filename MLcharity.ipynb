{
 "cells": [
  {
   "cell_type": "markdown",
   "id": "983069cc",
   "metadata": {},
   "source": [
    "# Charity Data ML"
   ]
  },
  {
   "cell_type": "markdown",
   "id": "904a15f5",
   "metadata": {},
   "source": [
    "This is data webscrapped from Charitywatch.org. The data was already cleaned before being saved."
   ]
  },
  {
   "cell_type": "code",
   "execution_count": 1,
   "id": "05278f97",
   "metadata": {},
   "outputs": [],
   "source": [
    "import matplotlib.pyplot as plt\n",
    "import pandas as pd\n",
    "import numpy as np\n",
    "import seaborn as sns\n",
    "from sklearn.model_selection import train_test_split\n",
    "from sklearn.ensemble import RandomForestClassifier\n",
    "from sklearn.tree import DecisionTreeClassifier\n",
    "from sklearn.tree import plot_tree"
   ]
  },
  {
   "cell_type": "markdown",
   "id": "89993878",
   "metadata": {},
   "source": [
    "Let's read in the data and look at the charity grades"
   ]
  },
  {
   "cell_type": "code",
   "execution_count": 2,
   "id": "a486773c",
   "metadata": {},
   "outputs": [
    {
     "data": {
      "image/png": "[encoded data removed]",
      "text/plain": [
       "<Figure size 432x288 with 1 Axes>"
      ]
     },
     "metadata": {
      "needs_background": "light"
     },
     "output_type": "display_data"
    }
   ],
   "source": [
    "charData = pd.read_csv(\"data.csv\",index_col=1).drop(\"Unnamed: 0\",axis = 1)\n",
    "sns.countplot(x = \"grade\", data = charData.sort_values(\"grade\"));"
   ]
  },
  {
   "cell_type": "markdown",
   "id": "f951ce43",
   "metadata": {},
   "source": [
    "\"top rated\" does not just mean \"A\" and \"A+\" grades"
   ]
  },
  {
   "cell_type": "code",
   "execution_count": 3,
   "id": "f4bf84f4",
   "metadata": {},
   "outputs": [
    {
     "data": {
      "text/plain": [
       "array(['F', 'B', 'D', 'C-', 'A+', 'A'], dtype=object)"
      ]
     },
     "execution_count": 3,
     "metadata": {},
     "output_type": "execute_result"
    }
   ],
   "source": [
    "charData.loc[charData[\"topRated\"] == 0,\"grade\"].unique()"
   ]
  },
  {
   "cell_type": "markdown",
   "id": "a5a7f4d3",
   "metadata": {},
   "source": [
    "The \"governance\" factor is redundant"
   ]
  },
  {
   "cell_type": "code",
   "execution_count": 4,
   "id": "b8b21740",
   "metadata": {},
   "outputs": [
    {
     "data": {
      "text/plain": [
       "True"
      ]
     },
     "execution_count": 4,
     "metadata": {},
     "output_type": "execute_result"
    }
   ],
   "source": [
    "govTable = charData.loc[charData[\"governance\"] == 1,['govA', 'govB', 'govC', 'govD', 'govE', 'govF', 'govG', 'govH', 'govI']]\n",
    "govTableSum = govTable.sum(axis=1)\n",
    "govTotal9Bool = govTableSum == 9\n",
    "govTotal9Bool.sum() == charData.loc[charData[\"governance\"] == 1].shape[0]"
   ]
  },
  {
   "cell_type": "markdown",
   "id": "1e0f6bc5",
   "metadata": {},
   "source": [
    "The \"transparency\" factor is redundant"
   ]
  },
  {
   "cell_type": "code",
   "execution_count": 5,
   "id": "ee786f8e",
   "metadata": {},
   "outputs": [
    {
     "data": {
      "text/plain": [
       "True"
      ]
     },
     "execution_count": 5,
     "metadata": {},
     "output_type": "execute_result"
    }
   ],
   "source": [
    "(charData.loc[charData[\"transparency\"] == 1,['transA', 'transB']].sum(axis=1) == 2).sum() == charData.loc[charData[\"transparency\"] == 1].shape[0]"
   ]
  },
  {
   "cell_type": "markdown",
   "id": "2fb788ce",
   "metadata": {},
   "source": [
    "Remove some factors for doing predictions"
   ]
  },
  {
   "cell_type": "code",
   "execution_count": 6,
   "id": "addc07c6",
   "metadata": {},
   "outputs": [],
   "source": [
    "predictorMat = charData.drop([\"topRated\",\"governance\",\"transparency\"],axis = 1)"
   ]
  },
  {
   "cell_type": "markdown",
   "id": "3bde5083",
   "metadata": {},
   "source": [
    "#### PREDICT TOP RATED"
   ]
  },
  {
   "cell_type": "markdown",
   "id": "1d532cb4",
   "metadata": {},
   "source": [
    "Let's first see if we can predict \"top rated\""
   ]
  },
  {
   "cell_type": "markdown",
   "id": "97132771",
   "metadata": {},
   "source": [
    "Test,Train split"
   ]
  },
  {
   "cell_type": "code",
   "execution_count": 7,
   "id": "4e87c284",
   "metadata": {},
   "outputs": [],
   "source": [
    "X_train1, X_test1, y_train1, y_test1 = train_test_split(predictorMat, charData[\"topRated\"], test_size=0.2, random_state=97)"
   ]
  },
  {
   "cell_type": "markdown",
   "id": "a0afa8be",
   "metadata": {},
   "source": [
    "Since these labels are created by human decisions, a decision tree should be able to do a good job at predicting"
   ]
  },
  {
   "cell_type": "markdown",
   "id": "622081e2",
   "metadata": {},
   "source": [
    "First model"
   ]
  },
  {
   "cell_type": "code",
   "execution_count": 8,
   "id": "ac847558",
   "metadata": {},
   "outputs": [
    {
     "data": {
      "text/plain": [
       "1"
      ]
     },
     "execution_count": 8,
     "metadata": {},
     "output_type": "execute_result"
    }
   ],
   "source": [
    "X_train1a = X_train1[['transA', 'transB', 'govA', 'govB', 'govC', 'govD', 'govE', 'govF', 'govG', 'govH', 'govI', 'privacy']]\n",
    "treeModel1a = DecisionTreeClassifier()\n",
    "treeModel1a.fit(X_train1a,y_train1)\n",
    "y_train1.shape[0] - sum(treeModel1a.predict(X_train1a) == y_train1)"
   ]
  },
  {
   "cell_type": "markdown",
   "id": "b7226285",
   "metadata": {},
   "source": [
    "We missed one. Let's try adding \"tax status\"."
   ]
  },
  {
   "cell_type": "code",
   "execution_count": 9,
   "id": "d3d25dda",
   "metadata": {},
   "outputs": [
    {
     "data": {
      "text/plain": [
       "1"
      ]
     },
     "execution_count": 9,
     "metadata": {},
     "output_type": "execute_result"
    }
   ],
   "source": [
    "dummyTax = pd.get_dummies(X_train1[\"taxStatus\"], drop_first=True)\n",
    "X_train1b = pd.concat([dummyTax, X_train1a], axis=1)\n",
    "treeModel1b = DecisionTreeClassifier()\n",
    "treeModel1b.fit(X_train1b,y_train1)\n",
    "y_train1.shape[0] - sum(treeModel1b.predict(X_train1b) == y_train1)"
   ]
  },
  {
   "cell_type": "markdown",
   "id": "0342d66f",
   "metadata": {},
   "source": [
    "We still missed one. Tax status doesn't seem to help. Let's use \"Program Percentage\" (amount spent on programs\n",
    "relative to overhead)"
   ]
  },
  {
   "cell_type": "code",
   "execution_count": 10,
   "id": "11ea2267",
   "metadata": {},
   "outputs": [
    {
     "data": {
      "text/plain": [
       "0"
      ]
     },
     "execution_count": 10,
     "metadata": {},
     "output_type": "execute_result"
    }
   ],
   "source": [
    "cleanPerc = X_train1[\"programPerc\"].str.replace(\"%\",\"\").astype(int)\n",
    "X_train1c = pd.concat([cleanPerc, X_train1a], axis=1)\n",
    "treeModel1c = DecisionTreeClassifier()\n",
    "treeModel1c.fit(X_train1c,y_train1)\n",
    "y_train1.shape[0] - sum(treeModel1c.predict(X_train1c) == y_train1)"
   ]
  },
  {
   "cell_type": "markdown",
   "id": "4a18e51e",
   "metadata": {},
   "source": [
    "We correctly predicted all labels. Let's look at the tree."
   ]
  },
  {
   "cell_type": "code",
   "execution_count": 11,
   "id": "3054fc03",
   "metadata": {},
   "outputs": [
    {
     "data": {
      "image/png": "[encoded data removed]",
      "text/plain": [
       "<Figure size 432x288 with 1 Axes>"
      ]
     },
     "metadata": {
      "needs_background": "light"
     },
     "output_type": "display_data"
    }
   ],
   "source": [
    "plot_tree(treeModel1c);"
   ]
  },
  {
   "cell_type": "markdown",
   "id": "43a66abf",
   "metadata": {},
   "source": [
    "It looks like the only factors we really need are \"programPerc\",\"transB\", and \"govI\". transB is probably more indicative of overall transparency, and govI is probably more indicative of overall governance."
   ]
  },
  {
   "cell_type": "code",
   "execution_count": 12,
   "id": "50b1f6d8",
   "metadata": {},
   "outputs": [],
   "source": [
    "X_train1d = X_train1c[[\"programPerc\",\"transB\",\"govI\"]]\n",
    "treeModel1d = DecisionTreeClassifier()\n",
    "treeModel1d.fit(X_train1d,y_train1);"
   ]
  },
  {
   "cell_type": "markdown",
   "id": "8f7abdc7",
   "metadata": {},
   "source": [
    "Let's now test the model"
   ]
  },
  {
   "cell_type": "code",
   "execution_count": 13,
   "id": "f06fa93b",
   "metadata": {},
   "outputs": [
    {
     "data": {
      "text/plain": [
       "0"
      ]
     },
     "execution_count": 13,
     "metadata": {},
     "output_type": "execute_result"
    }
   ],
   "source": [
    "firstHalfTest1 = X_test1[\"programPerc\"].str.replace(\"%\",\"\").astype(int)\n",
    "secondHalfTest1 = X_test1[['transB', 'govI']]\n",
    "X_testFull1 = pd.concat([firstHalfTest1, secondHalfTest1], axis=1)\n",
    "y_test1.shape[0] - sum(treeModel1d.predict(X_testFull1) == y_test1)"
   ]
  },
  {
   "cell_type": "markdown",
   "id": "49a9ae0a",
   "metadata": {},
   "source": [
    "It looks like our model was successfully able to label the test set"
   ]
  },
  {
   "cell_type": "markdown",
   "id": "c1499ef7",
   "metadata": {},
   "source": [
    "#### PREDICT GRADE"
   ]
  },
  {
   "cell_type": "markdown",
   "id": "35dc42a1",
   "metadata": {},
   "source": [
    "Let's now try to predict grade. Since we were able to predict \"Top Rated\", it is a redundant factor, so we will not be adding it back to the dataframe."
   ]
  },
  {
   "cell_type": "code",
   "execution_count": 14,
   "id": "622060ef",
   "metadata": {},
   "outputs": [],
   "source": [
    "predictorMat = predictorMat.drop(\"grade\", axis = 1)"
   ]
  },
  {
   "cell_type": "markdown",
   "id": "9c06b2ba",
   "metadata": {},
   "source": [
    "Test,Train split"
   ]
  },
  {
   "cell_type": "code",
   "execution_count": 15,
   "id": "9b296d78",
   "metadata": {},
   "outputs": [],
   "source": [
    "X_train2, X_test2, y_train2, y_test2 = train_test_split(predictorMat, charData[\"grade\"], test_size=0.2, random_state=94)"
   ]
  },
  {
   "cell_type": "markdown",
   "id": "8887be90",
   "metadata": {},
   "source": [
    "Let's use a similar model as before to predict grade"
   ]
  },
  {
   "cell_type": "code",
   "execution_count": 16,
   "id": "678d3555",
   "metadata": {},
   "outputs": [
    {
     "data": {
      "text/plain": [
       "31"
      ]
     },
     "execution_count": 16,
     "metadata": {},
     "output_type": "execute_result"
    }
   ],
   "source": [
    "cleanPerc2 = X_train2[\"programPerc\"].str.replace(\"%\",\"\").astype(int)\n",
    "X_train2a = pd.concat([cleanPerc2, X_train2[['transA', 'transB', 'govA', 'govB', 'govC', 'govD', 'govE', 'govF', 'govG', 'govH', 'govI', 'privacy']]], axis=1)\n",
    "treeModel2a = DecisionTreeClassifier()\n",
    "treeModel2a.fit(X_train2a,y_train2)\n",
    "y_train2.shape[0] - sum(treeModel2a.predict(X_train2a) == y_train2)"
   ]
  },
  {
   "cell_type": "markdown",
   "id": "9ab119db",
   "metadata": {},
   "source": [
    "We failed to correctly label 31 charities. Let's add \"cost100\" (amount spent to raise\n",
    "$100 of contributions)"
   ]
  },
  {
   "cell_type": "code",
   "execution_count": 17,
   "id": "4e9e8462",
   "metadata": {},
   "outputs": [
    {
     "data": {
      "text/plain": [
       "0"
      ]
     },
     "execution_count": 17,
     "metadata": {},
     "output_type": "execute_result"
    }
   ],
   "source": [
    "cleanCost2 = X_train2[\"cost100\"].str.replace(\"$\",\"\",regex=False).astype(int)\n",
    "X_train2b = pd.concat([cleanCost2,X_train2a], axis=1)\n",
    "treeModel2b = DecisionTreeClassifier()\n",
    "treeModel2b.fit(X_train2b,y_train2)\n",
    "y_train2.shape[0] - sum(treeModel2b.predict(X_train2b) == y_train2)"
   ]
  },
  {
   "cell_type": "markdown",
   "id": "0e5c5f74",
   "metadata": {},
   "source": [
    "We correctly predicted all labels. Let's look at the tree."
   ]
  },
  {
   "cell_type": "code",
   "execution_count": 18,
   "id": "420289b0",
   "metadata": {},
   "outputs": [
    {
     "data": {
      "image/png": "[encoded data removed]",
      "text/plain": [
       "<Figure size 2160x4320 with 1 Axes>"
      ]
     },
     "metadata": {
      "needs_background": "light"
     },
     "output_type": "display_data"
    }
   ],
   "source": [
    "plt.figure(figsize=(30, 60))\n",
    "plot_tree(treeModel2b);"
   ]
  },
  {
   "cell_type": "markdown",
   "id": "e232d82b",
   "metadata": {},
   "source": [
    "It looks like the only factors we really need are \"cost100, \"programPerc\", and \"transB\"."
   ]
  },
  {
   "cell_type": "code",
   "execution_count": 19,
   "id": "3f5e4d5a",
   "metadata": {},
   "outputs": [],
   "source": [
    "X_train2c = X_train2b[[\"cost100\",\"programPerc\",\"transB\"]]\n",
    "treeModel2c = DecisionTreeClassifier()\n",
    "treeModel2c.fit(X_train2c,y_train2);"
   ]
  },
  {
   "cell_type": "markdown",
   "id": "a3bbde37",
   "metadata": {},
   "source": [
    "Let's now test the model"
   ]
  },
  {
   "cell_type": "code",
   "execution_count": 20,
   "id": "0e8f7c5a",
   "metadata": {},
   "outputs": [
    {
     "data": {
      "text/plain": [
       "4"
      ]
     },
     "execution_count": 20,
     "metadata": {},
     "output_type": "execute_result"
    }
   ],
   "source": [
    "firstThirdTest2 = X_test2[\"cost100\"].str.replace(\"$\",\"\",regex=False).astype(int)\n",
    "secondThirdTest2 = X_test2[\"programPerc\"].str.replace(\"%\",\"\").astype(int)\n",
    "thirdThirdTest2 = X_test2['transB']\n",
    "X_testFull2 = pd.concat([firstThirdTest2, secondThirdTest2, thirdThirdTest2], axis=1)\n",
    "y_test2.shape[0] - sum(treeModel2c.predict(X_testFull2) == y_test2)"
   ]
  },
  {
   "cell_type": "markdown",
   "id": "405e3995",
   "metadata": {},
   "source": [
    "It looks like we weren't able to correctly label 4 charities. Fortunately, we actually know how these grades are chosen. The criteria can be found here (https://www.charitywatch.org/our-charity-rating-process). It seems like charity watch only uses Program Percentage and Cost to Raise 100."
   ]
  },
  {
   "cell_type": "markdown",
   "id": "458db1f6",
   "metadata": {},
   "source": [
    "#### Predict Grade Using Criteria"
   ]
  },
  {
   "cell_type": "markdown",
   "id": "d0268cdb",
   "metadata": {},
   "source": [
    "Test,Train split"
   ]
  },
  {
   "cell_type": "code",
   "execution_count": 21,
   "id": "6bfc7473",
   "metadata": {},
   "outputs": [],
   "source": [
    "X_train3, X_test3, y_train3, y_test3 = train_test_split(predictorMat, charData[\"grade\"], test_size=0.2, random_state=99)"
   ]
  },
  {
   "cell_type": "markdown",
   "id": "60e1e659",
   "metadata": {},
   "source": [
    "Let's train on only \"programPerc\" and \"cost100\"."
   ]
  },
  {
   "cell_type": "code",
   "execution_count": 22,
   "id": "c58594ed",
   "metadata": {},
   "outputs": [
    {
     "data": {
      "text/plain": [
       "0"
      ]
     },
     "execution_count": 22,
     "metadata": {},
     "output_type": "execute_result"
    }
   ],
   "source": [
    "cleanPerc3 = X_train3[\"programPerc\"].str.replace(\"%\",\"\").astype(int)\n",
    "cleanCost3 = X_train3[\"cost100\"].str.replace(\"$\",\"\",regex=False).astype(int)\n",
    "X3a = pd.concat([cleanPerc3,cleanCost3],axis=1)\n",
    "treeModel3a = DecisionTreeClassifier()\n",
    "treeModel3a.fit(X3a,y_train3)\n",
    "y_train3.shape[0] - sum(treeModel3a.predict(X3a) == y_train3)"
   ]
  },
  {
   "cell_type": "markdown",
   "id": "b86e11cd",
   "metadata": {},
   "source": [
    "We correctly predicted all labels. Let's now test the model"
   ]
  },
  {
   "cell_type": "code",
   "execution_count": 23,
   "id": "547ef1fc",
   "metadata": {},
   "outputs": [
    {
     "data": {
      "text/plain": [
       "3"
      ]
     },
     "execution_count": 23,
     "metadata": {},
     "output_type": "execute_result"
    }
   ],
   "source": [
    "firstHalfTest3 = X_test3[\"programPerc\"].str.replace(\"%\",\"\").astype(int)\n",
    "secondHalfTest3 = X_test3[\"cost100\"].str.replace(\"$\",\"\",regex=False).astype(int)\n",
    "X_testFull3a = pd.concat([firstHalfTest3,secondHalfTest3],axis=1)\n",
    "y_test3.shape[0] - sum(treeModel3a.predict(X_testFull3a) == y_test3)"
   ]
  },
  {
   "cell_type": "markdown",
   "id": "5a5bb762",
   "metadata": {},
   "source": [
    "It looks like we performed slightly better, but we should have essentially done perfectly well. Let's look at what we got wrong."
   ]
  },
  {
   "cell_type": "code",
   "execution_count": 24,
   "id": "d07489ad",
   "metadata": {},
   "outputs": [
    {
     "data": {
      "text/html": [
       "<div>\n",
       "<style scoped>\n",
       "    .dataframe tbody tr th:only-of-type {\n",
       "        vertical-align: middle;\n",
       "    }\n",
       "\n",
       "    .dataframe tbody tr th {\n",
       "        vertical-align: top;\n",
       "    }\n",
       "\n",
       "    .dataframe thead th {\n",
       "        text-align: right;\n",
       "    }\n",
       "</style>\n",
       "<table border=\"1\" class=\"dataframe\">\n",
       "  <thead>\n",
       "    <tr style=\"text-align: right;\">\n",
       "      <th></th>\n",
       "      <th>Actual</th>\n",
       "      <th>Predicted</th>\n",
       "      <th>programPerc</th>\n",
       "      <th>cost100</th>\n",
       "    </tr>\n",
       "    <tr>\n",
       "      <th>name</th>\n",
       "      <th></th>\n",
       "      <th></th>\n",
       "      <th></th>\n",
       "      <th></th>\n",
       "    </tr>\n",
       "  </thead>\n",
       "  <tbody>\n",
       "    <tr>\n",
       "      <th>Amazon Conservation Team</th>\n",
       "      <td>A</td>\n",
       "      <td>A-</td>\n",
       "      <td>77%</td>\n",
       "      <td>$4</td>\n",
       "    </tr>\n",
       "    <tr>\n",
       "      <th>EngenderHealth</th>\n",
       "      <td>A</td>\n",
       "      <td>A-</td>\n",
       "      <td>76%</td>\n",
       "      <td>$2</td>\n",
       "    </tr>\n",
       "    <tr>\n",
       "      <th>HealthRight International</th>\n",
       "      <td>A</td>\n",
       "      <td>A-</td>\n",
       "      <td>76%</td>\n",
       "      <td>$1</td>\n",
       "    </tr>\n",
       "  </tbody>\n",
       "</table>\n",
       "</div>"
      ],
      "text/plain": [
       "                          Actual Predicted programPerc cost100\n",
       "name                                                          \n",
       "Amazon Conservation Team       A        A-         77%      $4\n",
       "EngenderHealth                 A        A-         76%      $2\n",
       "HealthRight International      A        A-         76%      $1"
      ]
     },
     "execution_count": 24,
     "metadata": {},
     "output_type": "execute_result"
    }
   ],
   "source": [
    "actualLabels3 = y_test3.loc[treeModel3a.predict(X_testFull3a) != y_test3].rename(\"Actual\")\n",
    "predictedLabels3 = pd.DataFrame(treeModel3a.predict(X_testFull3a)[treeModel3a.predict(X_testFull3a) != y_test3], index = actualLabels3.index, columns = [\"Predicted\"])\n",
    "predictors3 = X_test3.loc[treeModel3a.predict(X_testFull3a) != y_test3,[\"programPerc\",\"cost100\"]]\n",
    "pd.concat([actualLabels3,predictedLabels3,predictors3],axis=1)"
   ]
  },
  {
   "cell_type": "markdown",
   "id": "0f6d54b7",
   "metadata": {},
   "source": [
    "Interestingly, the decision tree actually predicted these grades correctly in reference to Program Percentage. \"A-\" grades fall between 75-79%, but \"A+\" falls between $0-4 for Cost to Raise 100. Those at charity watch probably split the difference and gave them a grade of \"A\"."
   ]
  },
  {
   "cell_type": "markdown",
   "id": "f59a022d",
   "metadata": {},
   "source": [
    "This happens because decision trees can only use one factor at a time to make decisions. Let's see if training on each feature and then weighing them will solve this problem. We'll use a random forest in order to avoid overfitting."
   ]
  },
  {
   "cell_type": "code",
   "execution_count": 25,
   "id": "9b9c53d0",
   "metadata": {},
   "outputs": [],
   "source": [
    "gradesDict = {\"F\":0,\"D\":1,\"C-\":2,\"C\":3,\"C+\":4,\"B-\":5,\"B\":6,\"B+\":7,\"A-\":8,\"A\":9,\"A+\":10}\n",
    "charData = charData.replace(gradesDict)\n",
    "X_train4, X_test4, y_train4, y_test4 = train_test_split(predictorMat, charData[\"grade\"], test_size=0.2, random_state=86)\n",
    "cleanPerc4 = X_train4[\"programPerc\"].str.replace(\"%\",\"\").astype(int)\n",
    "cleanCost4 = X_train4[\"cost100\"].str.replace(\"$\",\"\",regex=False).astype(int)\n",
    "ppModel1 = RandomForestClassifier(max_samples = .9)\n",
    "ppModel1.fit(cleanPerc4.to_frame(),y_train4)\n",
    "c1Model1 = RandomForestClassifier(max_samples = .9)\n",
    "c1Model1.fit(cleanCost4.to_frame(),y_train4);"
   ]
  },
  {
   "cell_type": "markdown",
   "id": "85e45a8b",
   "metadata": {},
   "source": [
    "number incorrect for program percent model"
   ]
  },
  {
   "cell_type": "code",
   "execution_count": 26,
   "id": "f5489da1",
   "metadata": {},
   "outputs": [
    {
     "data": {
      "text/plain": [
       "38"
      ]
     },
     "execution_count": 26,
     "metadata": {},
     "output_type": "execute_result"
    }
   ],
   "source": [
    "y_train4.shape[0] - sum(ppModel1.predict(cleanPerc4.to_frame()) == y_train4)"
   ]
  },
  {
   "cell_type": "markdown",
   "id": "351e4653",
   "metadata": {},
   "source": [
    "number incorrect for cost to raise 100 model"
   ]
  },
  {
   "cell_type": "code",
   "execution_count": 27,
   "id": "f8a73a5b",
   "metadata": {},
   "outputs": [
    {
     "data": {
      "text/plain": [
       "77"
      ]
     },
     "execution_count": 27,
     "metadata": {},
     "output_type": "execute_result"
    }
   ],
   "source": [
    "y_train4.shape[0] - sum(c1Model1.predict(cleanCost4.to_frame()) == y_train4)"
   ]
  },
  {
   "cell_type": "markdown",
   "id": "af678379",
   "metadata": {},
   "source": [
    "Turn the predictions into a matrix, find the pseudoinverse and multiply by the actual labels in order to find the weights."
   ]
  },
  {
   "cell_type": "code",
   "execution_count": 28,
   "id": "9a5835b8",
   "metadata": {},
   "outputs": [
    {
     "data": {
      "text/plain": [
       "36"
      ]
     },
     "execution_count": 28,
     "metadata": {},
     "output_type": "execute_result"
    }
   ],
   "source": [
    "predMat1 = np.array([ppModel1.predict(cleanPerc4.to_frame()),c1Model1.predict(cleanCost4.to_frame())]).T\n",
    "weights1 = y_train4 @ np.linalg.pinv(predMat1).T\n",
    "predicted1 = (np.rint(predMat1 @ weights1)).astype(int)\n",
    "y_train4.shape[0] - sum(predicted1 == y_train4)"
   ]
  },
  {
   "cell_type": "markdown",
   "id": "7f76d277",
   "metadata": {},
   "source": [
    "It looks like the simpler model does a much better job. However, our more complex model isn't far off from the correct labels."
   ]
  },
  {
   "cell_type": "code",
   "execution_count": 29,
   "id": "02269a0c",
   "metadata": {},
   "outputs": [
    {
     "data": {
      "text/html": [
       "<div>\n",
       "<style scoped>\n",
       "    .dataframe tbody tr th:only-of-type {\n",
       "        vertical-align: middle;\n",
       "    }\n",
       "\n",
       "    .dataframe tbody tr th {\n",
       "        vertical-align: top;\n",
       "    }\n",
       "\n",
       "    .dataframe thead th {\n",
       "        text-align: right;\n",
       "    }\n",
       "</style>\n",
       "<table border=\"1\" class=\"dataframe\">\n",
       "  <thead>\n",
       "    <tr style=\"text-align: right;\">\n",
       "      <th></th>\n",
       "      <th>Actual</th>\n",
       "      <th>Predicted</th>\n",
       "      <th>programPerc</th>\n",
       "      <th>cost100</th>\n",
       "    </tr>\n",
       "    <tr>\n",
       "      <th>name</th>\n",
       "      <th></th>\n",
       "      <th></th>\n",
       "      <th></th>\n",
       "      <th></th>\n",
       "    </tr>\n",
       "  </thead>\n",
       "  <tbody>\n",
       "    <tr>\n",
       "      <th>American Red Cross</th>\n",
       "      <td>8</td>\n",
       "      <td>9</td>\n",
       "      <td>90%</td>\n",
       "      <td>$24</td>\n",
       "    </tr>\n",
       "    <tr>\n",
       "      <th>Ploughshares Fund</th>\n",
       "      <td>8</td>\n",
       "      <td>9</td>\n",
       "      <td>81%</td>\n",
       "      <td>$18</td>\n",
       "    </tr>\n",
       "    <tr>\n",
       "      <th>Coalition for the Homeless</th>\n",
       "      <td>8</td>\n",
       "      <td>9</td>\n",
       "      <td>84%</td>\n",
       "      <td>$17</td>\n",
       "    </tr>\n",
       "    <tr>\n",
       "      <th>Southern Poverty Law Center</th>\n",
       "      <td>0</td>\n",
       "      <td>2</td>\n",
       "      <td>64%</td>\n",
       "      <td>$15</td>\n",
       "    </tr>\n",
       "    <tr>\n",
       "      <th>Project Concern International (PCI)</th>\n",
       "      <td>7</td>\n",
       "      <td>8</td>\n",
       "      <td>87%</td>\n",
       "      <td>$28</td>\n",
       "    </tr>\n",
       "    <tr>\n",
       "      <th>Project HOPE</th>\n",
       "      <td>7</td>\n",
       "      <td>8</td>\n",
       "      <td>77%</td>\n",
       "      <td>$27</td>\n",
       "    </tr>\n",
       "    <tr>\n",
       "      <th>National Jewish Health</th>\n",
       "      <td>7</td>\n",
       "      <td>8</td>\n",
       "      <td>88%</td>\n",
       "      <td>$27</td>\n",
       "    </tr>\n",
       "    <tr>\n",
       "      <th>American Forests</th>\n",
       "      <td>8</td>\n",
       "      <td>9</td>\n",
       "      <td>81%</td>\n",
       "      <td>$16</td>\n",
       "    </tr>\n",
       "    <tr>\n",
       "      <th>Fortune Society</th>\n",
       "      <td>8</td>\n",
       "      <td>9</td>\n",
       "      <td>80%</td>\n",
       "      <td>$22</td>\n",
       "    </tr>\n",
       "    <tr>\n",
       "      <th>Environmental Defense Fund</th>\n",
       "      <td>7</td>\n",
       "      <td>8</td>\n",
       "      <td>77%</td>\n",
       "      <td>$20</td>\n",
       "    </tr>\n",
       "    <tr>\n",
       "      <th>Humane Farming Association</th>\n",
       "      <td>8</td>\n",
       "      <td>9</td>\n",
       "      <td>82%</td>\n",
       "      <td>$18</td>\n",
       "    </tr>\n",
       "    <tr>\n",
       "      <th>Memorial Sloan Kettering Cancer Center</th>\n",
       "      <td>7</td>\n",
       "      <td>9</td>\n",
       "      <td>98%</td>\n",
       "      <td>$31</td>\n",
       "    </tr>\n",
       "    <tr>\n",
       "      <th>Marine Toys for Tots Foundation</th>\n",
       "      <td>7</td>\n",
       "      <td>8</td>\n",
       "      <td>78%</td>\n",
       "      <td>$20</td>\n",
       "    </tr>\n",
       "    <tr>\n",
       "      <th>CARE USA</th>\n",
       "      <td>9</td>\n",
       "      <td>10</td>\n",
       "      <td>90%</td>\n",
       "      <td>$13</td>\n",
       "    </tr>\n",
       "    <tr>\n",
       "      <th>Girls Incorporated (National Office)</th>\n",
       "      <td>8</td>\n",
       "      <td>9</td>\n",
       "      <td>87%</td>\n",
       "      <td>$18</td>\n",
       "    </tr>\n",
       "    <tr>\n",
       "      <th>CEDARS</th>\n",
       "      <td>9</td>\n",
       "      <td>10</td>\n",
       "      <td>90%</td>\n",
       "      <td>$14</td>\n",
       "    </tr>\n",
       "    <tr>\n",
       "      <th>Prevent Blindness</th>\n",
       "      <td>7</td>\n",
       "      <td>8</td>\n",
       "      <td>78%</td>\n",
       "      <td>$20</td>\n",
       "    </tr>\n",
       "    <tr>\n",
       "      <th>Boys &amp; Girls Clubs of America (National Office)</th>\n",
       "      <td>8</td>\n",
       "      <td>9</td>\n",
       "      <td>82%</td>\n",
       "      <td>$19</td>\n",
       "    </tr>\n",
       "    <tr>\n",
       "      <th>Planned Parenthood Federation of America</th>\n",
       "      <td>6</td>\n",
       "      <td>7</td>\n",
       "      <td>70%</td>\n",
       "      <td>$23</td>\n",
       "    </tr>\n",
       "    <tr>\n",
       "      <th>Feeding America</th>\n",
       "      <td>7</td>\n",
       "      <td>8</td>\n",
       "      <td>79%</td>\n",
       "      <td>$26</td>\n",
       "    </tr>\n",
       "    <tr>\n",
       "      <th>National Audubon Society</th>\n",
       "      <td>7</td>\n",
       "      <td>8</td>\n",
       "      <td>76%</td>\n",
       "      <td>$24</td>\n",
       "    </tr>\n",
       "    <tr>\n",
       "      <th>Rocky Mountain Elk Foundation</th>\n",
       "      <td>8</td>\n",
       "      <td>9</td>\n",
       "      <td>84%</td>\n",
       "      <td>$16</td>\n",
       "    </tr>\n",
       "    <tr>\n",
       "      <th>African Wildlife Foundation</th>\n",
       "      <td>7</td>\n",
       "      <td>8</td>\n",
       "      <td>78%</td>\n",
       "      <td>$20</td>\n",
       "    </tr>\n",
       "    <tr>\n",
       "      <th>K9s For Warriors</th>\n",
       "      <td>8</td>\n",
       "      <td>7</td>\n",
       "      <td>74%</td>\n",
       "      <td>$8</td>\n",
       "    </tr>\n",
       "    <tr>\n",
       "      <th>Amazon Conservation Team</th>\n",
       "      <td>9</td>\n",
       "      <td>8</td>\n",
       "      <td>77%</td>\n",
       "      <td>$4</td>\n",
       "    </tr>\n",
       "    <tr>\n",
       "      <th>Christian Advocates Serving Evangelism</th>\n",
       "      <td>6</td>\n",
       "      <td>7</td>\n",
       "      <td>71%</td>\n",
       "      <td>$27</td>\n",
       "    </tr>\n",
       "    <tr>\n",
       "      <th>Bowery Residents' Committee (BRC)</th>\n",
       "      <td>9</td>\n",
       "      <td>10</td>\n",
       "      <td>90%</td>\n",
       "      <td>$15</td>\n",
       "    </tr>\n",
       "    <tr>\n",
       "      <th>HealthRight International</th>\n",
       "      <td>9</td>\n",
       "      <td>8</td>\n",
       "      <td>76%</td>\n",
       "      <td>$1</td>\n",
       "    </tr>\n",
       "    <tr>\n",
       "      <th>Center for Victims of Torture</th>\n",
       "      <td>7</td>\n",
       "      <td>8</td>\n",
       "      <td>76%</td>\n",
       "      <td>$24</td>\n",
       "    </tr>\n",
       "    <tr>\n",
       "      <th>National Kidney Foundation</th>\n",
       "      <td>8</td>\n",
       "      <td>9</td>\n",
       "      <td>80%</td>\n",
       "      <td>$19</td>\n",
       "    </tr>\n",
       "    <tr>\n",
       "      <th>Food Bank For New York City</th>\n",
       "      <td>7</td>\n",
       "      <td>8</td>\n",
       "      <td>77%</td>\n",
       "      <td>$24</td>\n",
       "    </tr>\n",
       "    <tr>\n",
       "      <th>Epilepsy Foundation</th>\n",
       "      <td>7</td>\n",
       "      <td>8</td>\n",
       "      <td>79%</td>\n",
       "      <td>$23</td>\n",
       "    </tr>\n",
       "    <tr>\n",
       "      <th>Oceana</th>\n",
       "      <td>8</td>\n",
       "      <td>7</td>\n",
       "      <td>73%</td>\n",
       "      <td>$7</td>\n",
       "    </tr>\n",
       "    <tr>\n",
       "      <th>ProLiteracy Worldwide</th>\n",
       "      <td>7</td>\n",
       "      <td>8</td>\n",
       "      <td>79%</td>\n",
       "      <td>$27</td>\n",
       "    </tr>\n",
       "    <tr>\n",
       "      <th>Rainforest Alliance</th>\n",
       "      <td>7</td>\n",
       "      <td>8</td>\n",
       "      <td>79%</td>\n",
       "      <td>$25</td>\n",
       "    </tr>\n",
       "    <tr>\n",
       "      <th>EngenderHealth</th>\n",
       "      <td>9</td>\n",
       "      <td>8</td>\n",
       "      <td>76%</td>\n",
       "      <td>$2</td>\n",
       "    </tr>\n",
       "  </tbody>\n",
       "</table>\n",
       "</div>"
      ],
      "text/plain": [
       "                                                 Actual  Predicted  \\\n",
       "name                                                                 \n",
       "American Red Cross                                    8          9   \n",
       "Ploughshares Fund                                     8          9   \n",
       "Coalition for the Homeless                            8          9   \n",
       "Southern Poverty Law Center                           0          2   \n",
       "Project Concern International (PCI)                   7          8   \n",
       "Project HOPE                                          7          8   \n",
       "National Jewish Health                                7          8   \n",
       "American Forests                                      8          9   \n",
       "Fortune Society                                       8          9   \n",
       "Environmental Defense Fund                            7          8   \n",
       "Humane Farming Association                            8          9   \n",
       "Memorial Sloan Kettering Cancer Center                7          9   \n",
       "Marine Toys for Tots Foundation                       7          8   \n",
       "CARE USA                                              9         10   \n",
       "Girls Incorporated (National Office)                  8          9   \n",
       "CEDARS                                                9         10   \n",
       "Prevent Blindness                                     7          8   \n",
       "Boys & Girls Clubs of America (National Office)       8          9   \n",
       "Planned Parenthood Federation of America              6          7   \n",
       "Feeding America                                       7          8   \n",
       "National Audubon Society                              7          8   \n",
       "Rocky Mountain Elk Foundation                         8          9   \n",
       "African Wildlife Foundation                           7          8   \n",
       "K9s For Warriors                                      8          7   \n",
       "Amazon Conservation Team                              9          8   \n",
       "Christian Advocates Serving Evangelism                6          7   \n",
       "Bowery Residents' Committee (BRC)                     9         10   \n",
       "HealthRight International                             9          8   \n",
       "Center for Victims of Torture                         7          8   \n",
       "National Kidney Foundation                            8          9   \n",
       "Food Bank For New York City                           7          8   \n",
       "Epilepsy Foundation                                   7          8   \n",
       "Oceana                                                8          7   \n",
       "ProLiteracy Worldwide                                 7          8   \n",
       "Rainforest Alliance                                   7          8   \n",
       "EngenderHealth                                        9          8   \n",
       "\n",
       "                                                programPerc cost100  \n",
       "name                                                                 \n",
       "American Red Cross                                      90%     $24  \n",
       "Ploughshares Fund                                       81%     $18  \n",
       "Coalition for the Homeless                              84%     $17  \n",
       "Southern Poverty Law Center                             64%     $15  \n",
       "Project Concern International (PCI)                     87%     $28  \n",
       "Project HOPE                                            77%     $27  \n",
       "National Jewish Health                                  88%     $27  \n",
       "American Forests                                        81%     $16  \n",
       "Fortune Society                                         80%     $22  \n",
       "Environmental Defense Fund                              77%     $20  \n",
       "Humane Farming Association                              82%     $18  \n",
       "Memorial Sloan Kettering Cancer Center                  98%     $31  \n",
       "Marine Toys for Tots Foundation                         78%     $20  \n",
       "CARE USA                                                90%     $13  \n",
       "Girls Incorporated (National Office)                    87%     $18  \n",
       "CEDARS                                                  90%     $14  \n",
       "Prevent Blindness                                       78%     $20  \n",
       "Boys & Girls Clubs of America (National Office)         82%     $19  \n",
       "Planned Parenthood Federation of America                70%     $23  \n",
       "Feeding America                                         79%     $26  \n",
       "National Audubon Society                                76%     $24  \n",
       "Rocky Mountain Elk Foundation                           84%     $16  \n",
       "African Wildlife Foundation                             78%     $20  \n",
       "K9s For Warriors                                        74%      $8  \n",
       "Amazon Conservation Team                                77%      $4  \n",
       "Christian Advocates Serving Evangelism                  71%     $27  \n",
       "Bowery Residents' Committee (BRC)                       90%     $15  \n",
       "HealthRight International                               76%      $1  \n",
       "Center for Victims of Torture                           76%     $24  \n",
       "National Kidney Foundation                              80%     $19  \n",
       "Food Bank For New York City                             77%     $24  \n",
       "Epilepsy Foundation                                     79%     $23  \n",
       "Oceana                                                  73%      $7  \n",
       "ProLiteracy Worldwide                                   79%     $27  \n",
       "Rainforest Alliance                                     79%     $25  \n",
       "EngenderHealth                                          76%      $2  "
      ]
     },
     "execution_count": 29,
     "metadata": {},
     "output_type": "execute_result"
    }
   ],
   "source": [
    "actualLabels4 = y_train4.loc[predicted1 != y_train4].rename(\"Actual\")\n",
    "predictedLabels4 = pd.DataFrame(predicted1[predicted1 != y_train4], index = actualLabels4.index, columns = [\"Predicted\"])\n",
    "predictors4 = X_train4.loc[predicted1 != y_train4,[\"programPerc\",\"cost100\"]]\n",
    "pd.concat([actualLabels4,predictedLabels4,predictors4],axis=1)"
   ]
  },
  {
   "cell_type": "markdown",
   "id": "7c4fa89a",
   "metadata": {},
   "source": [
    "Although we didn't perform so well on the training data, let's see how we perform on the test data."
   ]
  },
  {
   "cell_type": "code",
   "execution_count": 30,
   "id": "e0d99c17",
   "metadata": {},
   "outputs": [
    {
     "data": {
      "text/plain": [
       "10"
      ]
     },
     "execution_count": 30,
     "metadata": {},
     "output_type": "execute_result"
    }
   ],
   "source": [
    "cleanPercTest4 = X_test4[\"programPerc\"].str.replace(\"%\",\"\").astype(int)\n",
    "cleanCostTest4 = X_test4[\"cost100\"].str.replace(\"$\",\"\",regex=False).astype(int)\n",
    "predMatTest1 = np.array([ppModel1.predict(cleanPercTest4.to_frame()),c1Model1.predict(cleanCostTest4.to_frame())]).T\n",
    "predictedTest1 = (np.rint(predMatTest1 @ weights1)).astype(int)\n",
    "y_test4.shape[0] - sum(predictedTest1 == y_test4)"
   ]
  },
  {
   "cell_type": "markdown",
   "id": "e3adf024",
   "metadata": {},
   "source": [
    "Let's look at where we went wrong."
   ]
  },
  {
   "cell_type": "code",
   "execution_count": 31,
   "id": "42de40c4",
   "metadata": {},
   "outputs": [
    {
     "data": {
      "text/html": [
       "<div>\n",
       "<style scoped>\n",
       "    .dataframe tbody tr th:only-of-type {\n",
       "        vertical-align: middle;\n",
       "    }\n",
       "\n",
       "    .dataframe tbody tr th {\n",
       "        vertical-align: top;\n",
       "    }\n",
       "\n",
       "    .dataframe thead th {\n",
       "        text-align: right;\n",
       "    }\n",
       "</style>\n",
       "<table border=\"1\" class=\"dataframe\">\n",
       "  <thead>\n",
       "    <tr style=\"text-align: right;\">\n",
       "      <th></th>\n",
       "      <th>Actual</th>\n",
       "      <th>Predicted</th>\n",
       "      <th>programPerc</th>\n",
       "      <th>cost100</th>\n",
       "    </tr>\n",
       "    <tr>\n",
       "      <th>name</th>\n",
       "      <th></th>\n",
       "      <th></th>\n",
       "      <th></th>\n",
       "      <th></th>\n",
       "    </tr>\n",
       "  </thead>\n",
       "  <tbody>\n",
       "    <tr>\n",
       "      <th>Autism Society of America (National Office) &amp; Foundation</th>\n",
       "      <td>8</td>\n",
       "      <td>9</td>\n",
       "      <td>82%</td>\n",
       "      <td>$16</td>\n",
       "    </tr>\n",
       "    <tr>\n",
       "      <th>American Rivers</th>\n",
       "      <td>8</td>\n",
       "      <td>9</td>\n",
       "      <td>81%</td>\n",
       "      <td>$23</td>\n",
       "    </tr>\n",
       "    <tr>\n",
       "      <th>World Vision</th>\n",
       "      <td>8</td>\n",
       "      <td>9</td>\n",
       "      <td>81%</td>\n",
       "      <td>$16</td>\n",
       "    </tr>\n",
       "    <tr>\n",
       "      <th>MAP International</th>\n",
       "      <td>7</td>\n",
       "      <td>8</td>\n",
       "      <td>76%</td>\n",
       "      <td>$21</td>\n",
       "    </tr>\n",
       "    <tr>\n",
       "      <th>Bat Conservation International</th>\n",
       "      <td>7</td>\n",
       "      <td>8</td>\n",
       "      <td>75%</td>\n",
       "      <td>$26</td>\n",
       "    </tr>\n",
       "    <tr>\n",
       "      <th>Give Kids the World</th>\n",
       "      <td>7</td>\n",
       "      <td>8</td>\n",
       "      <td>80%</td>\n",
       "      <td>$30</td>\n",
       "    </tr>\n",
       "    <tr>\n",
       "      <th>Save the Children</th>\n",
       "      <td>8</td>\n",
       "      <td>9</td>\n",
       "      <td>86%</td>\n",
       "      <td>$16</td>\n",
       "    </tr>\n",
       "    <tr>\n",
       "      <th>Opportunity International</th>\n",
       "      <td>8</td>\n",
       "      <td>9</td>\n",
       "      <td>88%</td>\n",
       "      <td>$22</td>\n",
       "    </tr>\n",
       "    <tr>\n",
       "      <th>Trout Unlimited (National Office)</th>\n",
       "      <td>8</td>\n",
       "      <td>9</td>\n",
       "      <td>86%</td>\n",
       "      <td>$17</td>\n",
       "    </tr>\n",
       "    <tr>\n",
       "      <th>American Kidney Fund</th>\n",
       "      <td>10</td>\n",
       "      <td>8</td>\n",
       "      <td>97%</td>\n",
       "      <td>$2</td>\n",
       "    </tr>\n",
       "  </tbody>\n",
       "</table>\n",
       "</div>"
      ],
      "text/plain": [
       "                                                    Actual  Predicted  \\\n",
       "name                                                                    \n",
       "Autism Society of America (National Office) & F...       8          9   \n",
       "American Rivers                                          8          9   \n",
       "World Vision                                             8          9   \n",
       "MAP International                                        7          8   \n",
       "Bat Conservation International                           7          8   \n",
       "Give Kids the World                                      7          8   \n",
       "Save the Children                                        8          9   \n",
       "Opportunity International                                8          9   \n",
       "Trout Unlimited (National Office)                        8          9   \n",
       "American Kidney Fund                                    10          8   \n",
       "\n",
       "                                                   programPerc cost100  \n",
       "name                                                                    \n",
       "Autism Society of America (National Office) & F...         82%     $16  \n",
       "American Rivers                                            81%     $23  \n",
       "World Vision                                               81%     $16  \n",
       "MAP International                                          76%     $21  \n",
       "Bat Conservation International                             75%     $26  \n",
       "Give Kids the World                                        80%     $30  \n",
       "Save the Children                                          86%     $16  \n",
       "Opportunity International                                  88%     $22  \n",
       "Trout Unlimited (National Office)                          86%     $17  \n",
       "American Kidney Fund                                       97%      $2  "
      ]
     },
     "execution_count": 31,
     "metadata": {},
     "output_type": "execute_result"
    }
   ],
   "source": [
    "actualLabelsTest4 = y_test4.loc[predictedTest1 != y_test4].rename(\"Actual\")\n",
    "predictedLabelsTest4 = pd.DataFrame(predictedTest1[predictedTest1 != y_test4], index = actualLabelsTest4.index, columns = [\"Predicted\"])\n",
    "predictorsTest4 = X_test4.loc[predictedTest1 != y_test4,[\"programPerc\",\"cost100\"]]\n",
    "pd.concat([actualLabelsTest4,predictedLabelsTest4,predictorsTest4],axis=1)"
   ]
  },
  {
   "cell_type": "markdown",
   "id": "922ea1d2",
   "metadata": {},
   "source": [
    "We made a very clear error on \"American Kidney Fund\". This should clearly be an A+. The flaw here is that this more complex model actually does not simulate human decision making. This is because we've found the weights using the entire matrix, but factors only need to be weighted when the labels disagree. Let's see if this insight improves our model."
   ]
  },
  {
   "cell_type": "code",
   "execution_count": 32,
   "id": "85d70664",
   "metadata": {},
   "outputs": [
    {
     "data": {
      "text/plain": [
       "23"
      ]
     },
     "execution_count": 32,
     "metadata": {},
     "output_type": "execute_result"
    }
   ],
   "source": [
    "ppDF1 = pd.DataFrame(ppModel1.predict(cleanPerc4.to_frame()), index = cleanPerc4.index, columns = [\"ppModel\"])\n",
    "c1DF1 = pd.DataFrame(c1Model1.predict(cleanCost4.to_frame()), index = cleanCost4.index, columns = [\"c1Model\"])\n",
    "predMat2 = pd.concat([ppDF1,c1DF1],axis=1)\n",
    "disagreeMat1 = predMat2.loc[predMat2[\"ppModel\"] != predMat2[\"c1Model\"]]\n",
    "weights2 = y_train4.loc[predMat2[\"ppModel\"] != predMat2[\"c1Model\"]] @ np.linalg.pinv(disagreeMat1).T\n",
    "predicted2 = pd.concat([predMat2.loc[predMat2[\"ppModel\"] == predMat2[\"c1Model\"],\"ppModel\"],(np.rint(disagreeMat1 @ weights2)).astype(int)]).rename(\"grade\")\n",
    "predicted2 = predicted2.sort_index()\n",
    "y_train4 = y_train4.sort_index()\n",
    "y_train4.shape[0] - sum(predicted2 == y_train4)"
   ]
  },
  {
   "cell_type": "markdown",
   "id": "dae890a4",
   "metadata": {},
   "source": [
    "We've improved model performance. Let's see what we got wrong."
   ]
  },
  {
   "cell_type": "code",
   "execution_count": 33,
   "id": "a2de0122",
   "metadata": {},
   "outputs": [
    {
     "data": {
      "text/html": [
       "<div>\n",
       "<style scoped>\n",
       "    .dataframe tbody tr th:only-of-type {\n",
       "        vertical-align: middle;\n",
       "    }\n",
       "\n",
       "    .dataframe tbody tr th {\n",
       "        vertical-align: top;\n",
       "    }\n",
       "\n",
       "    .dataframe thead th {\n",
       "        text-align: right;\n",
       "    }\n",
       "</style>\n",
       "<table border=\"1\" class=\"dataframe\">\n",
       "  <thead>\n",
       "    <tr style=\"text-align: right;\">\n",
       "      <th></th>\n",
       "      <th>Actual</th>\n",
       "      <th>Predicted</th>\n",
       "      <th>programPerc</th>\n",
       "      <th>cost100</th>\n",
       "    </tr>\n",
       "    <tr>\n",
       "      <th>name</th>\n",
       "      <th></th>\n",
       "      <th></th>\n",
       "      <th></th>\n",
       "      <th></th>\n",
       "    </tr>\n",
       "  </thead>\n",
       "  <tbody>\n",
       "    <tr>\n",
       "      <th>Amazon Conservation Team</th>\n",
       "      <td>9</td>\n",
       "      <td>8</td>\n",
       "      <td>77%</td>\n",
       "      <td>$4</td>\n",
       "    </tr>\n",
       "    <tr>\n",
       "      <th>American Red Cross</th>\n",
       "      <td>8</td>\n",
       "      <td>9</td>\n",
       "      <td>90%</td>\n",
       "      <td>$24</td>\n",
       "    </tr>\n",
       "    <tr>\n",
       "      <th>Big Brothers/Big Sisters of America (National Office)</th>\n",
       "      <td>10</td>\n",
       "      <td>9</td>\n",
       "      <td>91%</td>\n",
       "      <td>$7</td>\n",
       "    </tr>\n",
       "    <tr>\n",
       "      <th>Catholic Relief Services</th>\n",
       "      <td>10</td>\n",
       "      <td>9</td>\n",
       "      <td>91%</td>\n",
       "      <td>$10</td>\n",
       "    </tr>\n",
       "    <tr>\n",
       "      <th>Christian Advocates Serving Evangelism</th>\n",
       "      <td>6</td>\n",
       "      <td>7</td>\n",
       "      <td>71%</td>\n",
       "      <td>$27</td>\n",
       "    </tr>\n",
       "    <tr>\n",
       "      <th>Comic Relief</th>\n",
       "      <td>10</td>\n",
       "      <td>9</td>\n",
       "      <td>90%</td>\n",
       "      <td>$8</td>\n",
       "    </tr>\n",
       "    <tr>\n",
       "      <th>DonorsChoose.org</th>\n",
       "      <td>10</td>\n",
       "      <td>9</td>\n",
       "      <td>94%</td>\n",
       "      <td>$5</td>\n",
       "    </tr>\n",
       "    <tr>\n",
       "      <th>Elizabeth Glaser Pediatric AIDS Foundation</th>\n",
       "      <td>10</td>\n",
       "      <td>9</td>\n",
       "      <td>91%</td>\n",
       "      <td>$9</td>\n",
       "    </tr>\n",
       "    <tr>\n",
       "      <th>EngenderHealth</th>\n",
       "      <td>9</td>\n",
       "      <td>8</td>\n",
       "      <td>76%</td>\n",
       "      <td>$2</td>\n",
       "    </tr>\n",
       "    <tr>\n",
       "      <th>Epilepsy Foundation</th>\n",
       "      <td>7</td>\n",
       "      <td>8</td>\n",
       "      <td>79%</td>\n",
       "      <td>$23</td>\n",
       "    </tr>\n",
       "    <tr>\n",
       "      <th>Folds of Honor Foundation</th>\n",
       "      <td>10</td>\n",
       "      <td>9</td>\n",
       "      <td>90%</td>\n",
       "      <td>$5</td>\n",
       "    </tr>\n",
       "    <tr>\n",
       "      <th>HealthRight International</th>\n",
       "      <td>9</td>\n",
       "      <td>8</td>\n",
       "      <td>76%</td>\n",
       "      <td>$1</td>\n",
       "    </tr>\n",
       "    <tr>\n",
       "      <th>Intrepid Fallen Heroes Fund</th>\n",
       "      <td>10</td>\n",
       "      <td>9</td>\n",
       "      <td>92%</td>\n",
       "      <td>$5</td>\n",
       "    </tr>\n",
       "    <tr>\n",
       "      <th>K9s For Warriors</th>\n",
       "      <td>8</td>\n",
       "      <td>7</td>\n",
       "      <td>74%</td>\n",
       "      <td>$8</td>\n",
       "    </tr>\n",
       "    <tr>\n",
       "      <th>Memorial Sloan Kettering Cancer Center</th>\n",
       "      <td>7</td>\n",
       "      <td>9</td>\n",
       "      <td>98%</td>\n",
       "      <td>$31</td>\n",
       "    </tr>\n",
       "    <tr>\n",
       "      <th>Multiple Myeloma Research Foundation</th>\n",
       "      <td>10</td>\n",
       "      <td>9</td>\n",
       "      <td>91%</td>\n",
       "      <td>$6</td>\n",
       "    </tr>\n",
       "    <tr>\n",
       "      <th>National Jewish Health</th>\n",
       "      <td>7</td>\n",
       "      <td>8</td>\n",
       "      <td>88%</td>\n",
       "      <td>$27</td>\n",
       "    </tr>\n",
       "    <tr>\n",
       "      <th>Oceana</th>\n",
       "      <td>8</td>\n",
       "      <td>7</td>\n",
       "      <td>73%</td>\n",
       "      <td>$7</td>\n",
       "    </tr>\n",
       "    <tr>\n",
       "      <th>Planned Parenthood Federation of America</th>\n",
       "      <td>6</td>\n",
       "      <td>7</td>\n",
       "      <td>70%</td>\n",
       "      <td>$23</td>\n",
       "    </tr>\n",
       "    <tr>\n",
       "      <th>Project Concern International (PCI)</th>\n",
       "      <td>7</td>\n",
       "      <td>8</td>\n",
       "      <td>87%</td>\n",
       "      <td>$28</td>\n",
       "    </tr>\n",
       "    <tr>\n",
       "      <th>Rotary Foundation of Rotary International</th>\n",
       "      <td>10</td>\n",
       "      <td>9</td>\n",
       "      <td>91%</td>\n",
       "      <td>$7</td>\n",
       "    </tr>\n",
       "    <tr>\n",
       "      <th>Southern Poverty Law Center</th>\n",
       "      <td>0</td>\n",
       "      <td>2</td>\n",
       "      <td>64%</td>\n",
       "      <td>$15</td>\n",
       "    </tr>\n",
       "    <tr>\n",
       "      <th>Waterkeeper Alliance</th>\n",
       "      <td>10</td>\n",
       "      <td>9</td>\n",
       "      <td>91%</td>\n",
       "      <td>$7</td>\n",
       "    </tr>\n",
       "  </tbody>\n",
       "</table>\n",
       "</div>"
      ],
      "text/plain": [
       "                                                    Actual  Predicted  \\\n",
       "name                                                                    \n",
       "Amazon Conservation Team                                 9          8   \n",
       "American Red Cross                                       8          9   \n",
       "Big Brothers/Big Sisters of America (National O...      10          9   \n",
       "Catholic Relief Services                                10          9   \n",
       "Christian Advocates Serving Evangelism                   6          7   \n",
       "Comic Relief                                            10          9   \n",
       "DonorsChoose.org                                        10          9   \n",
       "Elizabeth Glaser Pediatric AIDS Foundation              10          9   \n",
       "EngenderHealth                                           9          8   \n",
       "Epilepsy Foundation                                      7          8   \n",
       "Folds of Honor Foundation                               10          9   \n",
       "HealthRight International                                9          8   \n",
       "Intrepid Fallen Heroes Fund                             10          9   \n",
       "K9s For Warriors                                         8          7   \n",
       "Memorial Sloan Kettering Cancer Center                   7          9   \n",
       "Multiple Myeloma Research Foundation                    10          9   \n",
       "National Jewish Health                                   7          8   \n",
       "Oceana                                                   8          7   \n",
       "Planned Parenthood Federation of America                 6          7   \n",
       "Project Concern International (PCI)                      7          8   \n",
       "Rotary Foundation of Rotary International               10          9   \n",
       "Southern Poverty Law Center                              0          2   \n",
       "Waterkeeper Alliance                                    10          9   \n",
       "\n",
       "                                                   programPerc cost100  \n",
       "name                                                                    \n",
       "Amazon Conservation Team                                   77%      $4  \n",
       "American Red Cross                                         90%     $24  \n",
       "Big Brothers/Big Sisters of America (National O...         91%      $7  \n",
       "Catholic Relief Services                                   91%     $10  \n",
       "Christian Advocates Serving Evangelism                     71%     $27  \n",
       "Comic Relief                                               90%      $8  \n",
       "DonorsChoose.org                                           94%      $5  \n",
       "Elizabeth Glaser Pediatric AIDS Foundation                 91%      $9  \n",
       "EngenderHealth                                             76%      $2  \n",
       "Epilepsy Foundation                                        79%     $23  \n",
       "Folds of Honor Foundation                                  90%      $5  \n",
       "HealthRight International                                  76%      $1  \n",
       "Intrepid Fallen Heroes Fund                                92%      $5  \n",
       "K9s For Warriors                                           74%      $8  \n",
       "Memorial Sloan Kettering Cancer Center                     98%     $31  \n",
       "Multiple Myeloma Research Foundation                       91%      $6  \n",
       "National Jewish Health                                     88%     $27  \n",
       "Oceana                                                     73%      $7  \n",
       "Planned Parenthood Federation of America                   70%     $23  \n",
       "Project Concern International (PCI)                        87%     $28  \n",
       "Rotary Foundation of Rotary International                  91%      $7  \n",
       "Southern Poverty Law Center                                64%     $15  \n",
       "Waterkeeper Alliance                                       91%      $7  "
      ]
     },
     "execution_count": 33,
     "metadata": {},
     "output_type": "execute_result"
    }
   ],
   "source": [
    "actualLabels5 = y_train4.loc[predicted2 != y_train4].rename(\"Actual\")\n",
    "predictedLabels5 = predicted2[predicted2 != y_train4].rename(\"Predicted\")\n",
    "predictors5 = X_train4.loc[predicted2 != y_train4,[\"programPerc\",\"cost100\"]]\n",
    "pd.concat([actualLabels5,predictedLabels5,predictors5],axis=1)"
   ]
  },
  {
   "cell_type": "markdown",
   "id": "d64b16aa",
   "metadata": {},
   "source": [
    "Let's try our test data."
   ]
  },
  {
   "cell_type": "code",
   "execution_count": 34,
   "id": "c5a22e56",
   "metadata": {},
   "outputs": [
    {
     "data": {
      "text/plain": [
       "5"
      ]
     },
     "execution_count": 34,
     "metadata": {},
     "output_type": "execute_result"
    }
   ],
   "source": [
    "ppDFtest1 = pd.DataFrame(ppModel1.predict(cleanPercTest4.to_frame()), index = cleanPercTest4.index, columns = [\"ppModel\"])\n",
    "c1DFtest1 = pd.DataFrame(c1Model1.predict(cleanCostTest4.to_frame()), index = cleanCostTest4.index, columns = [\"c1Model\"])\n",
    "predMatTest2 = pd.concat([ppDFtest1,c1DFtest1],axis=1)\n",
    "disagreeMatTest1 = predMatTest2.loc[predMatTest2[\"ppModel\"] != predMatTest2[\"c1Model\"]]\n",
    "predictedTest2 = pd.concat([predMatTest2.loc[predMatTest2[\"ppModel\"] == predMatTest2[\"c1Model\"],\"ppModel\"],(np.rint(disagreeMatTest1 @ weights2)).astype(int)]).rename(\"grade\")\n",
    "predictedTest2 = predictedTest2.sort_index()\n",
    "y_test4 = y_test4.sort_index()\n",
    "y_test4.shape[0] - sum(predictedTest2 == y_test4)"
   ]
  },
  {
   "cell_type": "markdown",
   "id": "0cff53e5",
   "metadata": {},
   "source": [
    "Let's look at where we went wrong."
   ]
  },
  {
   "cell_type": "code",
   "execution_count": 35,
   "id": "f02dc56a",
   "metadata": {},
   "outputs": [
    {
     "data": {
      "text/html": [
       "<div>\n",
       "<style scoped>\n",
       "    .dataframe tbody tr th:only-of-type {\n",
       "        vertical-align: middle;\n",
       "    }\n",
       "\n",
       "    .dataframe tbody tr th {\n",
       "        vertical-align: top;\n",
       "    }\n",
       "\n",
       "    .dataframe thead th {\n",
       "        text-align: right;\n",
       "    }\n",
       "</style>\n",
       "<table border=\"1\" class=\"dataframe\">\n",
       "  <thead>\n",
       "    <tr style=\"text-align: right;\">\n",
       "      <th></th>\n",
       "      <th>Actual</th>\n",
       "      <th>Predicted</th>\n",
       "      <th>programPerc</th>\n",
       "      <th>cost100</th>\n",
       "    </tr>\n",
       "    <tr>\n",
       "      <th>name</th>\n",
       "      <th></th>\n",
       "      <th></th>\n",
       "      <th></th>\n",
       "      <th></th>\n",
       "    </tr>\n",
       "  </thead>\n",
       "  <tbody>\n",
       "    <tr>\n",
       "      <th>American Kidney Fund</th>\n",
       "      <td>10</td>\n",
       "      <td>8</td>\n",
       "      <td>97%</td>\n",
       "      <td>$2</td>\n",
       "    </tr>\n",
       "    <tr>\n",
       "      <th>Concerns of Police Survivors (COPS)</th>\n",
       "      <td>10</td>\n",
       "      <td>9</td>\n",
       "      <td>90%</td>\n",
       "      <td>$7</td>\n",
       "    </tr>\n",
       "    <tr>\n",
       "      <th>Give Kids the World</th>\n",
       "      <td>7</td>\n",
       "      <td>8</td>\n",
       "      <td>80%</td>\n",
       "      <td>$30</td>\n",
       "    </tr>\n",
       "    <tr>\n",
       "      <th>Hearing Health Foundation</th>\n",
       "      <td>10</td>\n",
       "      <td>9</td>\n",
       "      <td>91%</td>\n",
       "      <td>$7</td>\n",
       "    </tr>\n",
       "    <tr>\n",
       "      <th>Prevent Child Abuse America (National Office)</th>\n",
       "      <td>10</td>\n",
       "      <td>9</td>\n",
       "      <td>90%</td>\n",
       "      <td>$6</td>\n",
       "    </tr>\n",
       "  </tbody>\n",
       "</table>\n",
       "</div>"
      ],
      "text/plain": [
       "                                               Actual  Predicted programPerc  \\\n",
       "name                                                                           \n",
       "American Kidney Fund                               10          8         97%   \n",
       "Concerns of Police Survivors (COPS)                10          9         90%   \n",
       "Give Kids the World                                 7          8         80%   \n",
       "Hearing Health Foundation                          10          9         91%   \n",
       "Prevent Child Abuse America (National Office)      10          9         90%   \n",
       "\n",
       "                                              cost100  \n",
       "name                                                   \n",
       "American Kidney Fund                               $2  \n",
       "Concerns of Police Survivors (COPS)                $7  \n",
       "Give Kids the World                               $30  \n",
       "Hearing Health Foundation                          $7  \n",
       "Prevent Child Abuse America (National Office)      $6  "
      ]
     },
     "execution_count": 35,
     "metadata": {},
     "output_type": "execute_result"
    }
   ],
   "source": [
    "actualLabelsTest5 = y_test4.loc[predictedTest2 != y_test4].rename(\"Actual\")\n",
    "predictedLabelsTest5 = predictedTest2[predictedTest2 != y_test4].rename(\"Predicted\")\n",
    "predictorsTest5 = X_test4.loc[predictedTest2 != y_test4,[\"programPerc\",\"cost100\"]]\n",
    "pd.concat([actualLabelsTest5,predictedLabelsTest5,predictorsTest5],axis=1)"
   ]
  },
  {
   "cell_type": "markdown",
   "id": "85ce23de",
   "metadata": {},
   "source": [
    "We are still not able to correctly label \"American Kidney Fund\". It seems like the simpler model performed much better. However, it also seems like the simpler model overfit to the data. SPLC is given an F (0), but it doesn't actually fall into any of the criteria for getting an F. An \"F\" means having a program percentage of < 35% and a cost to raise \\\\$100 of > \\\\$60. SPLC should actually be a C+ (4) by program percentage or an A- (8) by cost to raise \\\\$100. The simpler model should not have correctly predicted this label."
   ]
  },
  {
   "cell_type": "code",
   "execution_count": 36,
   "id": "2d44800f",
   "metadata": {},
   "outputs": [
    {
     "data": {
      "text/html": [
       "<div>\n",
       "<style scoped>\n",
       "    .dataframe tbody tr th:only-of-type {\n",
       "        vertical-align: middle;\n",
       "    }\n",
       "\n",
       "    .dataframe tbody tr th {\n",
       "        vertical-align: top;\n",
       "    }\n",
       "\n",
       "    .dataframe thead th {\n",
       "        text-align: right;\n",
       "    }\n",
       "</style>\n",
       "<table border=\"1\" class=\"dataframe\">\n",
       "  <thead>\n",
       "    <tr style=\"text-align: right;\">\n",
       "      <th></th>\n",
       "      <th>Actual</th>\n",
       "      <th>Predicted</th>\n",
       "      <th>programPerc</th>\n",
       "      <th>cost100</th>\n",
       "    </tr>\n",
       "    <tr>\n",
       "      <th>name</th>\n",
       "      <th></th>\n",
       "      <th></th>\n",
       "      <th></th>\n",
       "      <th></th>\n",
       "    </tr>\n",
       "  </thead>\n",
       "  <tbody>\n",
       "    <tr>\n",
       "      <th>Southern Poverty Law Center</th>\n",
       "      <td>0</td>\n",
       "      <td>2</td>\n",
       "      <td>64%</td>\n",
       "      <td>$15</td>\n",
       "    </tr>\n",
       "  </tbody>\n",
       "</table>\n",
       "</div>"
      ],
      "text/plain": [
       "                             Actual  Predicted programPerc cost100\n",
       "name                                                              \n",
       "Southern Poverty Law Center       0          2         64%     $15"
      ]
     },
     "execution_count": 36,
     "metadata": {},
     "output_type": "execute_result"
    }
   ],
   "source": [
    "pd.concat([actualLabels5,predictedLabels5,predictors5],axis=1).loc[pd.concat([actualLabels5,predictedLabels5,predictors5],axis=1).index == \"Southern Poverty Law Center\"]"
   ]
  },
  {
   "cell_type": "markdown",
   "id": "39963128",
   "metadata": {},
   "source": [
    "Finally, since we have the actual levels of each feature used to give grades, let's see if we can predict using these levels."
   ]
  },
  {
   "cell_type": "markdown",
   "id": "cfd95900",
   "metadata": {},
   "source": [
    "#### Predicting using levels of features"
   ]
  },
  {
   "cell_type": "code",
   "execution_count": 37,
   "id": "849f2cf9",
   "metadata": {},
   "outputs": [
    {
     "data": {
      "text/plain": [
       "0"
      ]
     },
     "execution_count": 37,
     "metadata": {},
     "output_type": "execute_result"
    }
   ],
   "source": [
    "X_train5, X_test5, y_train5, y_test5 = train_test_split(predictorMat, charData[\"grade\"], test_size=0.2, random_state=78)\n",
    "cleanPerc5 = X_train5[\"programPerc\"].str.replace(\"%\",\"\").astype(int)\n",
    "cleanCost5 = X_train5[\"cost100\"].str.replace(\"$\",\"\",regex=False).astype(int)\n",
    "ppBins = pd.IntervalIndex.from_tuples([(0,35),(36,49),(50,55),(56,60),(61,64),(65,67),(68,71),(72,74),(75,79),(80,89),(90,100)],closed = \"both\")\n",
    "c1Bins = pd.IntervalIndex.from_tuples([(0,4),(5,11),(12,15),(16,19),(20,26),(27,30),(31,33),(34,37),(38,40),(41,59),(60,100)],closed = \"both\")\n",
    "cleanPerc5 = pd.cut(cleanPerc5, bins = ppBins).cat.rename_categories([0,1,2,3,4,5,6,7,8,9,10])\n",
    "cleanCost5 = pd.cut(cleanCost5, bins = c1Bins).cat.rename_categories([10,9,8,7,6,5,4,3,2,1,0])\n",
    "X_train5 = pd.concat([cleanPerc5,cleanCost5],axis=1)\n",
    "treeModel5 = DecisionTreeClassifier()\n",
    "treeModel5.fit(X_train5,y_train5)\n",
    "y_train5.shape[0] - sum(treeModel5.predict(X_train5) == y_train5)"
   ]
  },
  {
   "cell_type": "markdown",
   "id": "c5b9cea9",
   "metadata": {},
   "source": [
    "We fit the training data perfectly. Now, let's see how we do on test data."
   ]
  },
  {
   "cell_type": "code",
   "execution_count": 38,
   "id": "4e546a4b",
   "metadata": {},
   "outputs": [
    {
     "data": {
      "text/plain": [
       "4"
      ]
     },
     "execution_count": 38,
     "metadata": {},
     "output_type": "execute_result"
    }
   ],
   "source": [
    "firstHalfTest5 = X_test5[\"programPerc\"].str.replace(\"%\",\"\").astype(int)\n",
    "secondHalfTest5 = X_test5[\"cost100\"].str.replace(\"$\",\"\",regex=False).astype(int)\n",
    "firstHalfTest5 = pd.cut(firstHalfTest5, bins = ppBins).cat.rename_categories([0,1,2,3,4,5,6,7,8,9,10])\n",
    "secondHalfTest5 = pd.cut(secondHalfTest5, bins = c1Bins).cat.rename_categories([10,9,8,7,6,5,4,3,2,1,0])\n",
    "X_testFull5 = pd.concat([firstHalfTest5,secondHalfTest5],axis=1)\n",
    "y_test5.shape[0] - sum(treeModel5.predict(X_testFull5) == y_test5)"
   ]
  },
  {
   "cell_type": "markdown",
   "id": "e09104ff",
   "metadata": {},
   "source": [
    "Once again, it looks like our original simple model works best. Let's look at where we went wrong."
   ]
  },
  {
   "cell_type": "code",
   "execution_count": 39,
   "id": "63dd871e",
   "metadata": {},
   "outputs": [
    {
     "data": {
      "text/html": [
       "<div>\n",
       "<style scoped>\n",
       "    .dataframe tbody tr th:only-of-type {\n",
       "        vertical-align: middle;\n",
       "    }\n",
       "\n",
       "    .dataframe tbody tr th {\n",
       "        vertical-align: top;\n",
       "    }\n",
       "\n",
       "    .dataframe thead th {\n",
       "        text-align: right;\n",
       "    }\n",
       "</style>\n",
       "<table border=\"1\" class=\"dataframe\">\n",
       "  <thead>\n",
       "    <tr style=\"text-align: right;\">\n",
       "      <th></th>\n",
       "      <th>Actual</th>\n",
       "      <th>Predicted</th>\n",
       "      <th>programPerc</th>\n",
       "      <th>cost100</th>\n",
       "    </tr>\n",
       "    <tr>\n",
       "      <th>name</th>\n",
       "      <th></th>\n",
       "      <th></th>\n",
       "      <th></th>\n",
       "      <th></th>\n",
       "    </tr>\n",
       "  </thead>\n",
       "  <tbody>\n",
       "    <tr>\n",
       "      <th>NARAL Pro-Choice America (National Office)</th>\n",
       "      <td>2</td>\n",
       "      <td>1</td>\n",
       "      <td>55%</td>\n",
       "      <td>$34</td>\n",
       "    </tr>\n",
       "    <tr>\n",
       "      <th>Southern Poverty Law Center</th>\n",
       "      <td>0</td>\n",
       "      <td>7</td>\n",
       "      <td>64%</td>\n",
       "      <td>$15</td>\n",
       "    </tr>\n",
       "    <tr>\n",
       "      <th>Christian Advocates Serving Evangelism</th>\n",
       "      <td>6</td>\n",
       "      <td>7</td>\n",
       "      <td>71%</td>\n",
       "      <td>$27</td>\n",
       "    </tr>\n",
       "    <tr>\n",
       "      <th>Planned Parenthood Federation of America</th>\n",
       "      <td>6</td>\n",
       "      <td>7</td>\n",
       "      <td>70%</td>\n",
       "      <td>$23</td>\n",
       "    </tr>\n",
       "  </tbody>\n",
       "</table>\n",
       "</div>"
      ],
      "text/plain": [
       "                                            Actual  Predicted programPerc  \\\n",
       "name                                                                        \n",
       "NARAL Pro-Choice America (National Office)       2          1         55%   \n",
       "Southern Poverty Law Center                      0          7         64%   \n",
       "Christian Advocates Serving Evangelism           6          7         71%   \n",
       "Planned Parenthood Federation of America         6          7         70%   \n",
       "\n",
       "                                           cost100  \n",
       "name                                                \n",
       "NARAL Pro-Choice America (National Office)     $34  \n",
       "Southern Poverty Law Center                    $15  \n",
       "Christian Advocates Serving Evangelism         $27  \n",
       "Planned Parenthood Federation of America       $23  "
      ]
     },
     "execution_count": 39,
     "metadata": {},
     "output_type": "execute_result"
    }
   ],
   "source": [
    "actualLabels6 = y_test5.loc[treeModel5.predict(X_testFull5) != y_test5].rename(\"Actual\")\n",
    "predictedLabels6 = pd.DataFrame(treeModel5.predict(X_testFull5)[treeModel5.predict(X_testFull5) != y_test5], index = actualLabels6.index, columns = [\"Predicted\"])\n",
    "predictors6 = X_test5.loc[treeModel5.predict(X_testFull5) != y_test5,[\"programPerc\",\"cost100\"]]\n",
    "pd.concat([actualLabels6,predictedLabels6,predictors6],axis=1)"
   ]
  },
  {
   "cell_type": "markdown",
   "id": "3a8f5862",
   "metadata": {},
   "source": [
    "Besides NARAL, the predicted labels actually fall well along the criteria that charity watch uses. Let's try the more complex model one last time with this intervaled data."
   ]
  },
  {
   "cell_type": "code",
   "execution_count": 40,
   "id": "81913608",
   "metadata": {},
   "outputs": [],
   "source": [
    "X_train6, X_test6, y_train6, y_test6 = train_test_split(predictorMat, charData[\"grade\"], test_size=0.2, random_state=86)\n",
    "cleanPerc6 = X_train6[\"programPerc\"].str.replace(\"%\",\"\").astype(int)\n",
    "cleanCost6 = X_train6[\"cost100\"].str.replace(\"$\",\"\",regex=False).astype(int)\n",
    "cleanPerc6 = pd.cut(cleanPerc6, bins = ppBins).cat.rename_categories([0,1,2,3,4,5,6,7,8,9,10])\n",
    "cleanCost6 = pd.cut(cleanCost6, bins = c1Bins).cat.rename_categories([10,9,8,7,6,5,4,3,2,1,0])\n",
    "ppModel2 = RandomForestClassifier(max_samples = .9)\n",
    "ppModel2.fit(cleanPerc6.to_frame(),y_train6)\n",
    "c1Model2 = RandomForestClassifier(max_samples = .9)\n",
    "c1Model2.fit(cleanCost6.to_frame(),y_train6);"
   ]
  },
  {
   "cell_type": "markdown",
   "id": "90f44754",
   "metadata": {},
   "source": [
    "Look at program percentage model"
   ]
  },
  {
   "cell_type": "code",
   "execution_count": 41,
   "id": "2b4bc7e2",
   "metadata": {},
   "outputs": [
    {
     "data": {
      "text/plain": [
       "39"
      ]
     },
     "execution_count": 41,
     "metadata": {},
     "output_type": "execute_result"
    }
   ],
   "source": [
    "y_train6.shape[0] - sum(ppModel2.predict(cleanPerc6.to_frame()) == y_train6)"
   ]
  },
  {
   "cell_type": "markdown",
   "id": "e4fdaffd",
   "metadata": {},
   "source": [
    "Look at cost to raise 100 model"
   ]
  },
  {
   "cell_type": "code",
   "execution_count": 42,
   "id": "e176b9c5",
   "metadata": {},
   "outputs": [
    {
     "data": {
      "text/plain": [
       "78"
      ]
     },
     "execution_count": 42,
     "metadata": {},
     "output_type": "execute_result"
    }
   ],
   "source": [
    "y_train6.shape[0] - sum(c1Model2.predict(cleanCost6.to_frame()) == y_train6)"
   ]
  },
  {
   "cell_type": "markdown",
   "id": "fab66985",
   "metadata": {},
   "source": [
    "This version of the more complex model is about as good as the previous one"
   ]
  },
  {
   "cell_type": "code",
   "execution_count": 43,
   "id": "fd852bf5",
   "metadata": {},
   "outputs": [
    {
     "data": {
      "text/plain": [
       "23"
      ]
     },
     "execution_count": 43,
     "metadata": {},
     "output_type": "execute_result"
    }
   ],
   "source": [
    "ppDF2 = pd.DataFrame(ppModel2.predict(cleanPerc6.to_frame()), index = cleanPerc6.index, columns = [\"ppModel\"])\n",
    "c1DF2 = pd.DataFrame(c1Model2.predict(cleanCost6.to_frame()), index = cleanCost6.index, columns = [\"c1Model\"])\n",
    "predMat3 = pd.concat([ppDF2,c1DF2],axis=1)\n",
    "disagreeMat2 = predMat3.loc[predMat3[\"ppModel\"] != predMat3[\"c1Model\"]]\n",
    "weights3 = y_train6.loc[predMat3[\"ppModel\"] != predMat3[\"c1Model\"]] @ np.linalg.pinv(disagreeMat2).T\n",
    "predicted3 = pd.concat([predMat3.loc[predMat3[\"ppModel\"] == predMat3[\"c1Model\"],\"ppModel\"],(np.rint(disagreeMat2 @ weights3)).astype(int)]).rename(\"grade\")\n",
    "predicted3 = predicted3.sort_index()\n",
    "y_train6 = y_train6.sort_index()\n",
    "y_train6.shape[0] - sum(predicted3 == y_train6)"
   ]
  },
  {
   "cell_type": "markdown",
   "id": "75e74ecc",
   "metadata": {},
   "source": [
    "Looking at where we failed, it looks like we have many of the same culprits."
   ]
  },
  {
   "cell_type": "code",
   "execution_count": 44,
   "id": "a6b4e322",
   "metadata": {},
   "outputs": [
    {
     "data": {
      "text/html": [
       "<div>\n",
       "<style scoped>\n",
       "    .dataframe tbody tr th:only-of-type {\n",
       "        vertical-align: middle;\n",
       "    }\n",
       "\n",
       "    .dataframe tbody tr th {\n",
       "        vertical-align: top;\n",
       "    }\n",
       "\n",
       "    .dataframe thead th {\n",
       "        text-align: right;\n",
       "    }\n",
       "</style>\n",
       "<table border=\"1\" class=\"dataframe\">\n",
       "  <thead>\n",
       "    <tr style=\"text-align: right;\">\n",
       "      <th></th>\n",
       "      <th>Actual</th>\n",
       "      <th>Predicted</th>\n",
       "      <th>programPerc</th>\n",
       "      <th>cost100</th>\n",
       "    </tr>\n",
       "    <tr>\n",
       "      <th>name</th>\n",
       "      <th></th>\n",
       "      <th></th>\n",
       "      <th></th>\n",
       "      <th></th>\n",
       "    </tr>\n",
       "  </thead>\n",
       "  <tbody>\n",
       "    <tr>\n",
       "      <th>Amazon Conservation Team</th>\n",
       "      <td>9</td>\n",
       "      <td>8</td>\n",
       "      <td>77%</td>\n",
       "      <td>$4</td>\n",
       "    </tr>\n",
       "    <tr>\n",
       "      <th>American Red Cross</th>\n",
       "      <td>8</td>\n",
       "      <td>9</td>\n",
       "      <td>90%</td>\n",
       "      <td>$24</td>\n",
       "    </tr>\n",
       "    <tr>\n",
       "      <th>Big Brothers/Big Sisters of America (National Office)</th>\n",
       "      <td>10</td>\n",
       "      <td>9</td>\n",
       "      <td>91%</td>\n",
       "      <td>$7</td>\n",
       "    </tr>\n",
       "    <tr>\n",
       "      <th>Catholic Relief Services</th>\n",
       "      <td>10</td>\n",
       "      <td>9</td>\n",
       "      <td>91%</td>\n",
       "      <td>$10</td>\n",
       "    </tr>\n",
       "    <tr>\n",
       "      <th>Christian Advocates Serving Evangelism</th>\n",
       "      <td>6</td>\n",
       "      <td>7</td>\n",
       "      <td>71%</td>\n",
       "      <td>$27</td>\n",
       "    </tr>\n",
       "    <tr>\n",
       "      <th>Comic Relief</th>\n",
       "      <td>10</td>\n",
       "      <td>9</td>\n",
       "      <td>90%</td>\n",
       "      <td>$8</td>\n",
       "    </tr>\n",
       "    <tr>\n",
       "      <th>DonorsChoose.org</th>\n",
       "      <td>10</td>\n",
       "      <td>9</td>\n",
       "      <td>94%</td>\n",
       "      <td>$5</td>\n",
       "    </tr>\n",
       "    <tr>\n",
       "      <th>Elizabeth Glaser Pediatric AIDS Foundation</th>\n",
       "      <td>10</td>\n",
       "      <td>9</td>\n",
       "      <td>91%</td>\n",
       "      <td>$9</td>\n",
       "    </tr>\n",
       "    <tr>\n",
       "      <th>EngenderHealth</th>\n",
       "      <td>9</td>\n",
       "      <td>8</td>\n",
       "      <td>76%</td>\n",
       "      <td>$2</td>\n",
       "    </tr>\n",
       "    <tr>\n",
       "      <th>FINCA International</th>\n",
       "      <td>8</td>\n",
       "      <td>9</td>\n",
       "      <td>97%</td>\n",
       "      <td>$23</td>\n",
       "    </tr>\n",
       "    <tr>\n",
       "      <th>Folds of Honor Foundation</th>\n",
       "      <td>10</td>\n",
       "      <td>9</td>\n",
       "      <td>90%</td>\n",
       "      <td>$5</td>\n",
       "    </tr>\n",
       "    <tr>\n",
       "      <th>HealthRight International</th>\n",
       "      <td>9</td>\n",
       "      <td>8</td>\n",
       "      <td>76%</td>\n",
       "      <td>$1</td>\n",
       "    </tr>\n",
       "    <tr>\n",
       "      <th>Intrepid Fallen Heroes Fund</th>\n",
       "      <td>10</td>\n",
       "      <td>9</td>\n",
       "      <td>92%</td>\n",
       "      <td>$5</td>\n",
       "    </tr>\n",
       "    <tr>\n",
       "      <th>K9s For Warriors</th>\n",
       "      <td>8</td>\n",
       "      <td>7</td>\n",
       "      <td>74%</td>\n",
       "      <td>$8</td>\n",
       "    </tr>\n",
       "    <tr>\n",
       "      <th>Memorial Sloan Kettering Cancer Center</th>\n",
       "      <td>7</td>\n",
       "      <td>9</td>\n",
       "      <td>98%</td>\n",
       "      <td>$31</td>\n",
       "    </tr>\n",
       "    <tr>\n",
       "      <th>Multiple Myeloma Research Foundation</th>\n",
       "      <td>10</td>\n",
       "      <td>9</td>\n",
       "      <td>91%</td>\n",
       "      <td>$6</td>\n",
       "    </tr>\n",
       "    <tr>\n",
       "      <th>National Jewish Health</th>\n",
       "      <td>7</td>\n",
       "      <td>8</td>\n",
       "      <td>88%</td>\n",
       "      <td>$27</td>\n",
       "    </tr>\n",
       "    <tr>\n",
       "      <th>Oceana</th>\n",
       "      <td>8</td>\n",
       "      <td>7</td>\n",
       "      <td>73%</td>\n",
       "      <td>$7</td>\n",
       "    </tr>\n",
       "    <tr>\n",
       "      <th>Planned Parenthood Federation of America</th>\n",
       "      <td>6</td>\n",
       "      <td>7</td>\n",
       "      <td>70%</td>\n",
       "      <td>$23</td>\n",
       "    </tr>\n",
       "    <tr>\n",
       "      <th>Project Concern International (PCI)</th>\n",
       "      <td>7</td>\n",
       "      <td>8</td>\n",
       "      <td>87%</td>\n",
       "      <td>$28</td>\n",
       "    </tr>\n",
       "    <tr>\n",
       "      <th>Rotary Foundation of Rotary International</th>\n",
       "      <td>10</td>\n",
       "      <td>9</td>\n",
       "      <td>91%</td>\n",
       "      <td>$7</td>\n",
       "    </tr>\n",
       "    <tr>\n",
       "      <th>Southern Poverty Law Center</th>\n",
       "      <td>0</td>\n",
       "      <td>2</td>\n",
       "      <td>64%</td>\n",
       "      <td>$15</td>\n",
       "    </tr>\n",
       "    <tr>\n",
       "      <th>Waterkeeper Alliance</th>\n",
       "      <td>10</td>\n",
       "      <td>9</td>\n",
       "      <td>91%</td>\n",
       "      <td>$7</td>\n",
       "    </tr>\n",
       "  </tbody>\n",
       "</table>\n",
       "</div>"
      ],
      "text/plain": [
       "                                                    Actual  Predicted  \\\n",
       "name                                                                    \n",
       "Amazon Conservation Team                                 9          8   \n",
       "American Red Cross                                       8          9   \n",
       "Big Brothers/Big Sisters of America (National O...      10          9   \n",
       "Catholic Relief Services                                10          9   \n",
       "Christian Advocates Serving Evangelism                   6          7   \n",
       "Comic Relief                                            10          9   \n",
       "DonorsChoose.org                                        10          9   \n",
       "Elizabeth Glaser Pediatric AIDS Foundation              10          9   \n",
       "EngenderHealth                                           9          8   \n",
       "FINCA International                                      8          9   \n",
       "Folds of Honor Foundation                               10          9   \n",
       "HealthRight International                                9          8   \n",
       "Intrepid Fallen Heroes Fund                             10          9   \n",
       "K9s For Warriors                                         8          7   \n",
       "Memorial Sloan Kettering Cancer Center                   7          9   \n",
       "Multiple Myeloma Research Foundation                    10          9   \n",
       "National Jewish Health                                   7          8   \n",
       "Oceana                                                   8          7   \n",
       "Planned Parenthood Federation of America                 6          7   \n",
       "Project Concern International (PCI)                      7          8   \n",
       "Rotary Foundation of Rotary International               10          9   \n",
       "Southern Poverty Law Center                              0          2   \n",
       "Waterkeeper Alliance                                    10          9   \n",
       "\n",
       "                                                   programPerc cost100  \n",
       "name                                                                    \n",
       "Amazon Conservation Team                                   77%      $4  \n",
       "American Red Cross                                         90%     $24  \n",
       "Big Brothers/Big Sisters of America (National O...         91%      $7  \n",
       "Catholic Relief Services                                   91%     $10  \n",
       "Christian Advocates Serving Evangelism                     71%     $27  \n",
       "Comic Relief                                               90%      $8  \n",
       "DonorsChoose.org                                           94%      $5  \n",
       "Elizabeth Glaser Pediatric AIDS Foundation                 91%      $9  \n",
       "EngenderHealth                                             76%      $2  \n",
       "FINCA International                                        97%     $23  \n",
       "Folds of Honor Foundation                                  90%      $5  \n",
       "HealthRight International                                  76%      $1  \n",
       "Intrepid Fallen Heroes Fund                                92%      $5  \n",
       "K9s For Warriors                                           74%      $8  \n",
       "Memorial Sloan Kettering Cancer Center                     98%     $31  \n",
       "Multiple Myeloma Research Foundation                       91%      $6  \n",
       "National Jewish Health                                     88%     $27  \n",
       "Oceana                                                     73%      $7  \n",
       "Planned Parenthood Federation of America                   70%     $23  \n",
       "Project Concern International (PCI)                        87%     $28  \n",
       "Rotary Foundation of Rotary International                  91%      $7  \n",
       "Southern Poverty Law Center                                64%     $15  \n",
       "Waterkeeper Alliance                                       91%      $7  "
      ]
     },
     "execution_count": 44,
     "metadata": {},
     "output_type": "execute_result"
    }
   ],
   "source": [
    "actualLabels7 = y_train6.loc[predicted3 != y_train6].rename(\"Actual\")\n",
    "predictedLabels7 = predicted3[predicted3 != y_train6].rename(\"Predicted\")\n",
    "predictors7 = X_train6.loc[predicted3 != y_train6,[\"programPerc\",\"cost100\"]]\n",
    "pd.concat([actualLabels7,predictedLabels7,predictors7],axis=1)"
   ]
  },
  {
   "cell_type": "markdown",
   "id": "ee59829f",
   "metadata": {},
   "source": [
    "### Summary"
   ]
  },
  {
   "cell_type": "markdown",
   "id": "bd60d28d",
   "metadata": {},
   "source": [
    "We started by trying to predict the category of \"Top Rated\". We were able to label that perfectly. We then tried using decision trees in various ways to correctly label the charities with grades, but we were not able to perfectly do so. In the end, it seems like the simplest model, which was a decision tree using both \"program percentage\" and \"cost to raise $100\" as continuous variables, was able to perform the best. However, it may have overfit to the training data, since there were some charities it was able to predict but should not have been able to do "
   ]
  }
 ],
 "metadata": {
  "kernelspec": {
   "display_name": "Python 3 (ipykernel)",
   "language": "python",
   "name": "python3"
  },
  "language_info": {
   "codemirror_mode": {
    "name": "ipython",
    "version": 3
   },
   "file_extension": ".py",
   "mimetype": "text/x-python",
   "name": "python",
   "nbconvert_exporter": "python",
   "pygments_lexer": "ipython3",
   "version": "3.8.8"
  }
 },
 "nbformat": 4,
 "nbformat_minor": 5
}
